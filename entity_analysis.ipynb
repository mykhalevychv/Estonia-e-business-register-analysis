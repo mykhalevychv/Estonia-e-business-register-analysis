{
 "cells": [
  {
   "cell_type": "code",
   "execution_count": 6,
   "id": "dcb0fd96-5d13-46db-bfc5-50baf53d1f2b",
   "metadata": {},
   "outputs": [],
   "source": [
    "import pyspark\n",
    "from pyspark.sql.functions import *\n",
    "from functools import reduce\n",
    "from pyspark.context import SparkContext\n",
    "from pyspark.sql.session import SparkSession\n",
    "import pandas as pd\n",
    "\n",
    "sc = SparkContext.getOrCreate()\n",
    "spark = SparkSession(sc)\n"
   ]
  },
  {
   "cell_type": "code",
   "execution_count": 7,
   "id": "a339167d-8e8e-4b2b-a646-1b3eb3852ec1",
   "metadata": {},
   "outputs": [],
   "source": [
    "import matplotlib.pyplot as plt"
   ]
  },
  {
   "cell_type": "code",
   "execution_count": 8,
   "id": "31be32ed-e45b-407a-98af-7be3257bd0fe",
   "metadata": {
    "scrolled": true
   },
   "outputs": [],
   "source": [
    "#read dataset\n",
    "df = spark.read.json('entities.ftm.json')\n"
   ]
  },
  {
   "cell_type": "code",
   "execution_count": 9,
   "id": "685701d5-fa83-4a13-aa65-ad17cfe06418",
   "metadata": {},
   "outputs": [],
   "source": [
    "#divide dataset into smaller datasets grouping by type of entity\n",
    "\n",
    "company_df = df.filter(df[\"schema\"]=='Company')\n",
    "person_df = df.filter(df[\"schema\"]=='Person')\n",
    "legal_entity_df = df.filter(df[\"schema\"]=='LegalEntity')\n",
    "directorship_df = df.filter(df[\"schema\"]=='Directorship')\n",
    "ownership_df = df.filter(df[\"schema\"]=='Ownership')\n",
    "organization_df = df.filter(df[\"schema\"]=='Organization')\n",
    "public_body_df = df.filter(df[\"schema\"]=='PublicBody') "
   ]
  },
  {
   "cell_type": "code",
   "execution_count": 383,
   "id": "56aca34c-f2c9-4445-b2a2-8694f980b0df",
   "metadata": {},
   "outputs": [
    {
     "data": {
      "text/plain": [
       "291340"
      ]
     },
     "execution_count": 383,
     "metadata": {},
     "output_type": "execute_result"
    }
   ],
   "source": [
    "#general number of registered companies in Estonia\n",
    "company_df.distinct().count()"
   ]
  },
  {
   "cell_type": "code",
   "execution_count": 384,
   "id": "a9762656-e970-43cb-b320-6cce0c88d79f",
   "metadata": {},
   "outputs": [
    {
     "data": {
      "text/plain": [
       "580686"
      ]
     },
     "execution_count": 384,
     "metadata": {},
     "output_type": "execute_result"
    }
   ],
   "source": [
    "#general number of company owners in Estonia\n",
    "directors_df.distinct().count()"
   ]
  },
  {
   "cell_type": "code",
   "execution_count": 39,
   "id": "7e8a6fa1-39d9-4262-8339-977744737d14",
   "metadata": {},
   "outputs": [
    {
     "data": {
      "text/html": [
       "<div>\n",
       "<style scoped>\n",
       "    .dataframe tbody tr th:only-of-type {\n",
       "        vertical-align: middle;\n",
       "    }\n",
       "\n",
       "    .dataframe tbody tr th {\n",
       "        vertical-align: top;\n",
       "    }\n",
       "\n",
       "    .dataframe thead th {\n",
       "        text-align: right;\n",
       "    }\n",
       "</style>\n",
       "<table border=\"1\" class=\"dataframe\">\n",
       "  <thead>\n",
       "    <tr style=\"text-align: right;\">\n",
       "      <th></th>\n",
       "      <th>country</th>\n",
       "      <th>num_people</th>\n",
       "    </tr>\n",
       "  </thead>\n",
       "  <tbody>\n",
       "    <tr>\n",
       "      <th>0</th>\n",
       "      <td>ee</td>\n",
       "      <td>247464</td>\n",
       "    </tr>\n",
       "  </tbody>\n",
       "</table>\n",
       "</div>"
      ],
      "text/plain": [
       "  country  num_people\n",
       "0      ee      247464"
      ]
     },
     "execution_count": 39,
     "metadata": {},
     "output_type": "execute_result"
    }
   ],
   "source": [
    "#number of company owners per country (of origin)\n",
    "#add graph\n",
    "owners_per_country = person_df.select(person_df.properties.country.alias(\"country\"),person_df.id)\n",
    "owners_per_country = owners_per_country.withColumn(\"country\", explode(col(\"country\")))\n",
    "owners_per_country = owners_per_country.groupBy(\"country\").agg(countDistinct(\"id\").alias(\"num_people\"))\n",
    "owners_per_country = owners_per_country.orderBy(col(\"num_people\").desc())\n",
    "\n",
    "#create pandas dataframe for plotting\n",
    "owners_per_country_pd = owners_per_country.toPandas()\n",
    "#print country with biggest number of company owners in dataset(obviously)\n",
    "owners_per_country_pd.iloc[[0]]"
   ]
  },
  {
   "cell_type": "code",
   "execution_count": 40,
   "id": "4b8abde1-6d60-4381-9537-cdd67871c824",
   "metadata": {},
   "outputs": [
    {
     "data": {
      "text/html": [
       "<div>\n",
       "<style scoped>\n",
       "    .dataframe tbody tr th:only-of-type {\n",
       "        vertical-align: middle;\n",
       "    }\n",
       "\n",
       "    .dataframe tbody tr th {\n",
       "        vertical-align: top;\n",
       "    }\n",
       "\n",
       "    .dataframe thead th {\n",
       "        text-align: right;\n",
       "    }\n",
       "</style>\n",
       "<table border=\"1\" class=\"dataframe\">\n",
       "  <thead>\n",
       "    <tr style=\"text-align: right;\">\n",
       "      <th></th>\n",
       "      <th>country</th>\n",
       "      <th>num_people</th>\n",
       "    </tr>\n",
       "  </thead>\n",
       "  <tbody>\n",
       "    <tr>\n",
       "      <th>1</th>\n",
       "      <td>fi</td>\n",
       "      <td>4809</td>\n",
       "    </tr>\n",
       "    <tr>\n",
       "      <th>2</th>\n",
       "      <td>ua</td>\n",
       "      <td>4357</td>\n",
       "    </tr>\n",
       "    <tr>\n",
       "      <th>3</th>\n",
       "      <td>ru</td>\n",
       "      <td>3847</td>\n",
       "    </tr>\n",
       "    <tr>\n",
       "      <th>4</th>\n",
       "      <td>es</td>\n",
       "      <td>3206</td>\n",
       "    </tr>\n",
       "    <tr>\n",
       "      <th>5</th>\n",
       "      <td>lv</td>\n",
       "      <td>2951</td>\n",
       "    </tr>\n",
       "    <tr>\n",
       "      <th>6</th>\n",
       "      <td>de</td>\n",
       "      <td>2672</td>\n",
       "    </tr>\n",
       "    <tr>\n",
       "      <th>7</th>\n",
       "      <td>gb</td>\n",
       "      <td>1574</td>\n",
       "    </tr>\n",
       "    <tr>\n",
       "      <th>8</th>\n",
       "      <td>tr</td>\n",
       "      <td>1536</td>\n",
       "    </tr>\n",
       "    <tr>\n",
       "      <th>9</th>\n",
       "      <td>se</td>\n",
       "      <td>1490</td>\n",
       "    </tr>\n",
       "    <tr>\n",
       "      <th>10</th>\n",
       "      <td>pl</td>\n",
       "      <td>1381</td>\n",
       "    </tr>\n",
       "  </tbody>\n",
       "</table>\n",
       "</div>"
      ],
      "text/plain": [
       "   country  num_people\n",
       "1       fi        4809\n",
       "2       ua        4357\n",
       "3       ru        3847\n",
       "4       es        3206\n",
       "5       lv        2951\n",
       "6       de        2672\n",
       "7       gb        1574\n",
       "8       tr        1536\n",
       "9       se        1490\n",
       "10      pl        1381"
      ]
     },
     "execution_count": 40,
     "metadata": {},
     "output_type": "execute_result"
    }
   ],
   "source": [
    "#selecting next top 10 counties with biggest number of company owners \n",
    "top_countries = owners_per_country_pd.iloc[1:11]\n",
    "\n",
    "top_countries"
   ]
  },
  {
   "cell_type": "code",
   "execution_count": 43,
   "id": "3c867fcc-704b-4a69-bed9-be70544e7583",
   "metadata": {},
   "outputs": [
    {
     "data": {
      "image/png": "[encoded data removed]",
      "text/plain": [
       "<Figure size 600x400 with 1 Axes>"
      ]
     },
     "metadata": {},
     "output_type": "display_data"
    }
   ],
   "source": [
    "#plotting the results\n",
    "\n",
    "plt.figure(figsize=(6, 4))\n",
    "plt.bar(top_countries['country'], top_countries['num_people'])\n",
    "plt.xlabel('Country')\n",
    "plt.ylabel('Number of people')\n",
    "plt.title('Number of Company Owners per Country')\n",
    "plt.xticks(rotation=90) \n",
    "plt.tight_layout()\n",
    "\n",
    "# show the plot\n",
    "plt.show()"
   ]
  },
  {
   "cell_type": "code",
   "execution_count": 370,
   "id": "461907b6-2392-47c4-bfb7-e15049645741",
   "metadata": {},
   "outputs": [
    {
     "name": "stdout",
     "output_type": "stream",
     "text": [
      "+--------------------+------+\n",
      "|              status| count|\n",
      "+--------------------+------+\n",
      "|[Registrisse kantud]|284330|\n",
      "|   [Likvideerimisel]|  6422|\n",
      "|         [Pankrotis]|   588|\n",
      "+--------------------+------+\n",
      "\n"
     ]
    }
   ],
   "source": [
    "#show numbers of companies for each status\n",
    "company_df.groupBy(\"properties.status\").count().sort(col(\"count\").desc()).show()\n",
    "\n",
    "#Registrisse kantud - Registered\n",
    "#Likvideerimisel - In liquidation\n",
    "#Pankrotis - Bankrupt"
   ]
  },
  {
   "cell_type": "code",
   "execution_count": 111,
   "id": "dabb9c46-7680-47a8-955e-4d593bbe4d9f",
   "metadata": {},
   "outputs": [],
   "source": [
    "# data transformation for plotting \n",
    "company_status_df = company_df.select(company_df.properties.status.alias(\"status\"), company_df.id)\n",
    "company_status_df = company_status_df.withColumn(\"status\", company_status_df.status.cast('string'))\n",
    "company_status_df = company_status_df.withColumn(\"status\", regexp_replace(company_status_df.status,   '\\\\[|\\\\]' , ''));\n",
    "company_status_df = company_status_df.withColumn(\n",
    "    \"status\",\n",
    "    when(col(\"status\") == \"Registrisse kantud\", \"Registered\")\n",
    "    .when(col(\"status\") == \"Likvideerimisel\", \"In Liquidation\")\n",
    "    .when(col(\"status\") == \"Pankrotis\", \"Bankrupt\")\n",
    "    .otherwise(col(\"status\"))\n",
    ")"
   ]
  },
  {
   "cell_type": "code",
   "execution_count": 112,
   "id": "ce88fbc2-8a74-4b8f-9b98-09d93599df65",
   "metadata": {},
   "outputs": [
    {
     "data": {
      "text/html": [
       "<div>\n",
       "<style scoped>\n",
       "    .dataframe tbody tr th:only-of-type {\n",
       "        vertical-align: middle;\n",
       "    }\n",
       "\n",
       "    .dataframe tbody tr th {\n",
       "        vertical-align: top;\n",
       "    }\n",
       "\n",
       "    .dataframe thead th {\n",
       "        text-align: right;\n",
       "    }\n",
       "</style>\n",
       "<table border=\"1\" class=\"dataframe\">\n",
       "  <thead>\n",
       "    <tr style=\"text-align: right;\">\n",
       "      <th></th>\n",
       "      <th>status</th>\n",
       "      <th>companies</th>\n",
       "    </tr>\n",
       "  </thead>\n",
       "  <tbody>\n",
       "    <tr>\n",
       "      <th>0</th>\n",
       "      <td>In Liquidation</td>\n",
       "      <td>6422</td>\n",
       "    </tr>\n",
       "    <tr>\n",
       "      <th>1</th>\n",
       "      <td>Bankrupt</td>\n",
       "      <td>588</td>\n",
       "    </tr>\n",
       "    <tr>\n",
       "      <th>2</th>\n",
       "      <td>Registered</td>\n",
       "      <td>284330</td>\n",
       "    </tr>\n",
       "  </tbody>\n",
       "</table>\n",
       "</div>"
      ],
      "text/plain": [
       "           status  companies\n",
       "0  In Liquidation       6422\n",
       "1        Bankrupt        588\n",
       "2      Registered     284330"
      ]
     },
     "execution_count": 112,
     "metadata": {},
     "output_type": "execute_result"
    }
   ],
   "source": [
    "company_status_df = company_status_df.groupBy(\"status\").agg(countDistinct(\"id\").alias(\"companies\"))\n",
    "company_status_pd = company_status_df.toPandas()\n",
    "company_status_pd.head()"
   ]
  },
  {
   "cell_type": "code",
   "execution_count": 123,
   "id": "33bfa021-ab12-4e3c-b106-8b5124ea4c6c",
   "metadata": {},
   "outputs": [
    {
     "data": {
      "image/png": "[encoded data removed]",
      "text/plain": [
       "<Figure size 500x500 with 1 Axes>"
      ]
     },
     "metadata": {},
     "output_type": "display_data"
    }
   ],
   "source": [
    "# plot pie chart\n",
    "plt.figure(figsize=(5, 5))\n",
    "plt.pie(company_status_pd['companies'], labels=company_status_pd['status'], autopct='%1.1f%%', startangle=140, colors=[ '#3500ff', '#ff00d3','#a400ff'])\n",
    "plt.title('Statuses of companies')\n",
    "plt.axis('equal')  \n",
    "plt.show()"
   ]
  },
  {
   "cell_type": "code",
   "execution_count": 44,
   "id": "9b4821fb-8d3f-4bc7-883c-31b50bbb7633",
   "metadata": {},
   "outputs": [
    {
     "name": "stdout",
     "output_type": "stream",
     "text": [
      "+--------------------------------------------------------------------------------+------+\n",
      "|legalForm                                                                       |count |\n",
      "+--------------------------------------------------------------------------------+------+\n",
      "|[Osaühing]                                                                      |256780|\n",
      "|[Korteriühistu]                                                                 |24904 |\n",
      "|[Usaldusühing]                                                                  |3814  |\n",
      "|[Aktsiaselts]                                                                   |2238  |\n",
      "|[Tulundusühistu]                                                                |1528  |\n",
      "|[Täisühing]                                                                     |1281  |\n",
      "|[Välismaa äriühingu filiaal]                                                    |477   |\n",
      "|[Ametiühing]                                                                    |172   |\n",
      "|[Maaparandusühistu]                                                             |61    |\n",
      "|[Avalik-õiguslik juriidiline isik, põhiseaduslik institutsioon või nende asutus]|39    |\n",
      "|[Euroopa majandushuviühing]                                                     |19    |\n",
      "|[Euroopa äriühing (Societas Europaea)]                                          |13    |\n",
      "|[Erakond]                                                                       |13    |\n",
      "|[Euroopa ühistu]                                                                |1     |\n",
      "+--------------------------------------------------------------------------------+------+\n",
      "\n"
     ]
    }
   ],
   "source": [
    "#count number of companies for each legal form\n",
    "company_df.groupBy(\"properties.legalForm\").count().sort(col(\"count\").desc()).show(truncate=False)"
   ]
  },
  {
   "cell_type": "markdown",
   "id": "ae8d08f7-9a66-4a34-b630-4d81ea719e47",
   "metadata": {},
   "source": [
    "# Lets find 5 people who own biggest number of companies "
   ]
  },
  {
   "cell_type": "code",
   "execution_count": 48,
   "id": "0e91a27a-3c65-4cef-9eeb-2c89bf7b02ef",
   "metadata": {},
   "outputs": [],
   "source": [
    "#select main columns from persons, clean the data \n",
    "p_df = person_df.select(person_df.id, person_df.properties.lastName.alias(\"lastName\"), person_df.properties.firstName.alias('firstName'));\n",
    "p_df = p_df.withColumn(\"lastName\", p_df.lastName.cast('string')).withColumn(\"firstName\", p_df.firstName.cast('string'));\n",
    "p_df = p_df.withColumn(\"lastName\", regexp_replace(p_df.lastName,   '\\\\[|\\\\]' , '')).withColumn(\"firstName\", regexp_replace(p_df.firstName,   '\\\\[|\\\\]' , ''));\n"
   ]
  },
  {
   "cell_type": "code",
   "execution_count": 46,
   "id": "f85ecf9b-cd11-4089-919b-7cd459babb44",
   "metadata": {},
   "outputs": [],
   "source": [
    "#select main columns from directorships, clean the data \n",
    "\n",
    "d_df = directorship_df.select(directorship_df.properties.organization.alias('organization_id'),\n",
    "                              directorship_df.properties.director.alias('director_id'))\n",
    "d_df = d_df.withColumn(\"director_id\", d_df.director_id.cast('string')).withColumn(\"organization_id\", d_df.organization_id.cast('string'));\n",
    "d_df = d_df.withColumn(\"director_id\", regexp_replace(d_df.director_id,   '\\\\[|\\\\]' , '')).withColumn(\"organization_id\", regexp_replace(d_df.organization_id,   '\\\\[|\\\\]' , ''));\n"
   ]
  },
  {
   "cell_type": "code",
   "execution_count": 49,
   "id": "f11434c2-973a-4773-9c26-cf5ed860fb9a",
   "metadata": {},
   "outputs": [],
   "source": [
    "#select main columns from companies, clean the data \n",
    "c_df = company_df.select(company_df.id, company_df[\"properties.name\"]);\n",
    "c_df = c_df.withColumn(\"name\", c_df.name.cast('string'));\n",
    "c_df = c_df.withColumn(\"name\", regexp_replace(c_df.name,   '\\\\[|\\\\]' , ''));"
   ]
  },
  {
   "cell_type": "code",
   "execution_count": 50,
   "id": "eb9a1186-51f2-4c13-b27a-265971ded4ab",
   "metadata": {},
   "outputs": [],
   "source": [
    "#join persons with directorship to get more information about \n",
    "directors_df = d_df.join(p_df,d_df.director_id == p_df.id,'inner')\n",
    "directors_df = directors_df.withColumnRenamed(\"id\", \"owner_id\")"
   ]
  },
  {
   "cell_type": "code",
   "execution_count": 69,
   "id": "930cbe59-2e75-45ce-9815-6e22a5302caf",
   "metadata": {},
   "outputs": [
    {
     "name": "stdout",
     "output_type": "stream",
     "text": [
      "+--------------------+--------+---------+-----------+--------------------+\n",
      "|         director_id|lastName|firstName| company_id|                name|\n",
      "+--------------------+--------+---------+-----------+--------------------+\n",
      "|      ee-46405046520|   Kiilo|     Kaja|ee-10000461|   Osaühing \"Muaree\"|\n",
      "|      ee-46405256517|  Joakit|   Katrin|ee-10000461|   Osaühing \"Muaree\"|\n",
      "|      ee-47311066528|    Vois|    Leila|ee-10000461|   Osaühing \"Muaree\"|\n",
      "|      ee-36009300219|  Proosa|     Jüri|ee-10000515|Osaühing B.Braun ...|\n",
      "|ee-officer-mia-ek...|  Eklund|      Mia|ee-10000515|Osaühing B.Braun ...|\n",
      "+--------------------+--------+---------+-----------+--------------------+\n",
      "only showing top 5 rows\n",
      "\n"
     ]
    }
   ],
   "source": [
    "companies_and_directors = directors_df.join(c_df,directors_df.organization_id == c_df.id,'inner')\n",
    "companies_and_directors = companies_and_directors.drop('owner_id').drop('organization_id')\n",
    "companies_and_directors = companies_and_directors.withColumnRenamed(\"id\", \"company_id\")\n",
    "\n",
    "companies_and_directors.show(5)"
   ]
  },
  {
   "cell_type": "code",
   "execution_count": 52,
   "id": "d3134c43-0ca8-4dd9-a332-d5f82c4a29ea",
   "metadata": {},
   "outputs": [],
   "source": [
    "# Count people who own biggest number of companies \n",
    "\n",
    "people_companies_count = companies_and_directors.groupBy(\"firstName\", \"lastName\", \"director_id\") \\\n",
    "    .agg(countDistinct(\"company_id\").alias(\"num_companies\"))\n",
    "\n",
    "# order the result in descending order based on the count of companies\n",
    "people_companies_count = people_companies_count.orderBy(col(\"num_companies\").desc())\n"
   ]
  },
  {
   "cell_type": "code",
   "execution_count": 382,
   "id": "ed251725-3f59-47cc-8a56-e6c9f9b32c67",
   "metadata": {},
   "outputs": [
    {
     "name": "stdout",
     "output_type": "stream",
     "text": [
      "+--------------------------+----------------------+--------------+-------------+\n",
      "|firstName                 |lastName              |director_id   |num_companies|\n",
      "+--------------------------+----------------------+--------------+-------------+\n",
      "|Lauri, Omanikukonto: Lauri|Hansberg              |ee-38305114217|472          |\n",
      "|Raul                      |Pint                  |ee-36809224228|402          |\n",
      "|Annika                    |Madissoon             |ee-48409055216|276          |\n",
      "|Irina                     |Somova                |ee-45405260290|217          |\n",
      "|Darja                     |Lissovskaja           |ee-48201173719|203          |\n",
      "|Deniss                    |Godenko               |ee-38202013719|201          |\n",
      "|Elvira                    |Sokolova              |ee-46502092735|200          |\n",
      "|Külli                     |Niinoja               |ee-45205300259|194          |\n",
      "|Roman                     |Buglevski             |ee-38404062718|181          |\n",
      "|Hannes                    |Rosin                 |ee-37902090356|169          |\n",
      "|Ilja                      |Nikiforov             |ee-38810132721|141          |\n",
      "|Marina                    |Lillo                 |ee-46201300241|140          |\n",
      "|Peter Nicolai             |Skjoldby              |ee-36108280387|139          |\n",
      "|Ott                       |Lammertson, Lammetrson|ee-37901240252|138          |\n",
      "|Ott                       |Männiste              |ee-37905050234|119          |\n",
      "|Urmas                     |Rooba                 |ee-36610150252|111          |\n",
      "|Rein                      |Ruusalu               |ee-36802212737|109          |\n",
      "|Indrek                    |Alliksaar             |ee-37404020281|105          |\n",
      "|Martin                    |Krupp                 |ee-37011102745|103          |\n",
      "|Andre                     |Vetka                 |ee-38002252712|102          |\n",
      "+--------------------------+----------------------+--------------+-------------+\n",
      "only showing top 20 rows\n",
      "\n"
     ]
    }
   ],
   "source": [
    "# top individuals with the biggest number of companies associated with them\n",
    "people_companies_count.show(truncate=False)"
   ]
  },
  {
   "cell_type": "code",
   "execution_count": 59,
   "id": "d2c1277d-7fc0-48be-9cf5-1e766a0bf57a",
   "metadata": {},
   "outputs": [
    {
     "name": "stdout",
     "output_type": "stream",
     "text": [
      "+----------------------------+\n",
      "|properties.incorporationDate|\n",
      "+----------------------------+\n",
      "|                [1995-09-14]|\n",
      "|                [1995-09-14]|\n",
      "|                [1995-09-27]|\n",
      "|                [1995-09-27]|\n",
      "|                [1995-09-26]|\n",
      "+----------------------------+\n",
      "only showing top 5 rows\n",
      "\n"
     ]
    }
   ],
   "source": [
    "company_df.select(company_df.properties.incorporationDate).show(5)"
   ]
  },
  {
   "cell_type": "markdown",
   "id": "5562689a-9fa6-4960-8704-61d7c5ae3302",
   "metadata": {},
   "source": [
    "#Count number of companies opened yearly"
   ]
  },
  {
   "cell_type": "code",
   "execution_count": 92,
   "id": "9e077544-11c4-4055-9783-379add49316b",
   "metadata": {},
   "outputs": [
    {
     "name": "stdout",
     "output_type": "stream",
     "text": [
      "+-----------+----------+---------------------------------------------+\n",
      "|id         |date      |name                                         |\n",
      "+-----------+----------+---------------------------------------------+\n",
      "|ee-10000018|1995-09-14|Amserv Auto Osaühing, Amserv Auto Aktsiaselts|\n",
      "|ee-10000024|1995-09-14|osaühing \"Eesti Raamat\"                      |\n",
      "|ee-10000082|1995-09-27|Täisühing Grotte                             |\n",
      "|ee-10000127|1995-09-27|Täisühing Aravete Apteek                     |\n",
      "|ee-10000165|1995-09-26|Aktsiaselts Kiviõli Kaubahoov                |\n",
      "+-----------+----------+---------------------------------------------+\n",
      "only showing top 5 rows\n",
      "\n"
     ]
    }
   ],
   "source": [
    "company_year_df = company_df.select(company_df.id, company_df[\"properties.incorporationDate\"].alias(\"date\"), company_df[\"properties.name\"].alias(\"name\"));\n",
    "company_year_df = company_year_df.withColumn(\"date\", company_year_df.date.cast('string')).withColumn(\"name\", company_year_df.name.cast('string'));\n",
    "company_year_df = company_year_df.withColumn(\"date\", regexp_replace(company_year_df.date,   '\\\\[|\\\\]' , '')).withColumn(\"name\", regexp_replace(company_year_df.name,   '\\\\[|\\\\]' , ''));\n",
    "company_year_df.show(5, truncate=False);"
   ]
  },
  {
   "cell_type": "code",
   "execution_count": 93,
   "id": "438a5e66-f9dd-4aef-99ad-cd710f37851e",
   "metadata": {},
   "outputs": [
    {
     "data": {
      "text/html": [
       "<div>\n",
       "<style scoped>\n",
       "    .dataframe tbody tr th:only-of-type {\n",
       "        vertical-align: middle;\n",
       "    }\n",
       "\n",
       "    .dataframe tbody tr th {\n",
       "        vertical-align: top;\n",
       "    }\n",
       "\n",
       "    .dataframe thead th {\n",
       "        text-align: right;\n",
       "    }\n",
       "</style>\n",
       "<table border=\"1\" class=\"dataframe\">\n",
       "  <thead>\n",
       "    <tr style=\"text-align: right;\">\n",
       "      <th></th>\n",
       "      <th>year</th>\n",
       "      <th>companies</th>\n",
       "    </tr>\n",
       "  </thead>\n",
       "  <tbody>\n",
       "    <tr>\n",
       "      <th>0</th>\n",
       "      <td>2018</td>\n",
       "      <td>26728</td>\n",
       "    </tr>\n",
       "    <tr>\n",
       "      <th>1</th>\n",
       "      <td>2023</td>\n",
       "      <td>22183</td>\n",
       "    </tr>\n",
       "    <tr>\n",
       "      <th>2</th>\n",
       "      <td>2021</td>\n",
       "      <td>21917</td>\n",
       "    </tr>\n",
       "    <tr>\n",
       "      <th>3</th>\n",
       "      <td>2022</td>\n",
       "      <td>19620</td>\n",
       "    </tr>\n",
       "    <tr>\n",
       "      <th>4</th>\n",
       "      <td>2019</td>\n",
       "      <td>18337</td>\n",
       "    </tr>\n",
       "  </tbody>\n",
       "</table>\n",
       "</div>"
      ],
      "text/plain": [
       "   year  companies\n",
       "0  2018      26728\n",
       "1  2023      22183\n",
       "2  2021      21917\n",
       "3  2022      19620\n",
       "4  2019      18337"
      ]
     },
     "execution_count": 93,
     "metadata": {},
     "output_type": "execute_result"
    }
   ],
   "source": [
    "company_year_df = company_year_df.withColumn(\"date\", company_year_df[\"date\"].cast('date'));\n",
    "\n",
    "# extract year from the date column\n",
    "company_year_df = company_year_df.withColumn(\"year\", year(company_year_df[\"date\"]))\n",
    "\n",
    "\n",
    "company_year_df = company_year_df.groupBy(\"year\").agg(countDistinct(\"id\").alias(\"companies\"))\n",
    "company_year_df = company_year_df.orderBy(col(\"companies\").desc())\n",
    "\n",
    "#create pandas dataframe for plotting\n",
    "company_year_pd = company_year_df.toPandas()\n",
    "#print top 5 years during which the biggest number of companies opened\n",
    "company_year_pd = company_year_pd.astype({'year': 'Int64'})\n",
    "company_year_pd.head()"
   ]
  },
  {
   "cell_type": "code",
   "execution_count": 99,
   "id": "58f2ae4e-b122-41a0-b169-19282f862ebf",
   "metadata": {},
   "outputs": [
    {
     "data": {
      "image/png": "[encoded data removed]",
      "text/plain": [
       "<Figure size 1000x400 with 1 Axes>"
      ]
     },
     "metadata": {},
     "output_type": "display_data"
    }
   ],
   "source": [
    "# create a bar plot using pandas and matplotlib\n",
    "company_year_pd.plot(kind=\"bar\", x = \"year\", y = \"companies\", figsize=(10, 4), color='skyblue')\n",
    "plt.title(\"Number of Companies Opening Per Year\")\n",
    "plt.xlabel(\"Year\")\n",
    "plt.ylabel(\"Number of Companies\")\n",
    "plt.xticks(rotation=45)\n",
    "plt.grid(axis='y', linestyle='--', linewidth=0.7)\n",
    "plt.show()"
   ]
  }
 ],
 "metadata": {
  "kernelspec": {
   "display_name": "Python 3 (ipykernel)",
   "language": "python",
   "name": "python3"
  },
  "language_info": {
   "codemirror_mode": {
    "name": "ipython",
    "version": 3
   },
   "file_extension": ".py",
   "mimetype": "text/x-python",
   "name": "python",
   "nbconvert_exporter": "python",
   "pygments_lexer": "ipython3",
   "version": "3.8.10"
  }
 },
 "nbformat": 4,
 "nbformat_minor": 5
}
